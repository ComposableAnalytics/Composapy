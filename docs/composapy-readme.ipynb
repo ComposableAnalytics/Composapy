{
 "cells": [
  {
   "cell_type": "markdown",
   "metadata": {
    "collapsed": false
   },
   "source": [
    "# Composapy\n",
    "\n",
    "DataLabs comes pre-installed with Composapy, a python package that makes it easy to\n",
    "programmatically interface with Composable. Composapy allows you to interactively author, execute\n",
    "and retrieve results from DataFlows (Directed Acyclic Graphs, DAGs).\n",
    "\n",
    "Visit our [ReadTheDocs](https://composapy.readthedocs.io/) page a more detailed look at\n",
    "Composapy.\n",
    "\n",
    "- [Session](#session)\n",
    "  - [Register a Session](#register-a-session)\n",
    "- [DataFlow](#dataflow)\n",
    "  - [Create and Save a DataFlow](#create-and-save-a-dataflow)\n",
    "  - [Run a DataFlow](#run-a-dataflow)\n",
    "  - [DataFlowObject and DataFlowRun Modules](#dataflowobject-and-dataflowrun-modules)\n",
    "  - [DataFlowObject and DataFlowRun Input](#dataflowobject-and-dataflowrun-input)\n",
    "  - [DataFlowRun Result](#dataflowrun-result)\n",
    "- [Key](#key)\n",
    "  - [Retrieve Key](#retrieve-key)\n",
    "  - [Register Key](#register-key)\n",
    "  - [Search for Key](#search-for-key)\n",
    "- [QueryView](#queryview)\n",
    "  - [Create and Connect to a QueryView Driver](#create-and-connect-to-a-queryview-driver)\n",
    "  - [Run a Query](#run-a-query)\n",
    "  - [SQL Magic Commands](#sql-magic-commands)\n",
    "- [Additional Information](#additional-information)\n",
    "\n",
    "## Session\n",
    "\n",
    "[ReadTheDocs - Session](https://composapy.readthedocs.io/reference/composapy-session.html)\n",
    "\n",
    "### Register a Session\n",
    "\n",
    "Composapy looks for the environment variable `APPLICATION_URI` by default (set by DataLabs). If you are using Composapy outside of the datalabs environment and the `APPLICATION_URI`\n",
    "environment variable is not set, you can set it with keyword argument `uri`. You can create a session with Windows Authentication (if you are in DataLab, this will be the same as the \n",
    "key on the DataLab edit screen), [`string`] API Token (can be generated on the composable website), or with a [`tuple[str, str]`] username/password combination."
   ]
  },
  {
   "cell_type": "code",
   "execution_count": null,
   "metadata": {
    "collapsed": false,
    "pycharm": {
     "name": "#%%\n"
    }
   },
   "outputs": [],
   "source": [
    "from composapy.session import Session\n",
    "from composapy.auth import AuthMode\n",
    "\n",
    "session = Session(auth_mode=AuthMode.WINDOWS)\n",
    "session = Session(auth_mode=AuthMode.TOKEN, credentials=\"<your-api-token-here>\", uri=\"http://localhost/CompAnalytics/\")\n",
    "session = Session(auth_mode=AuthMode.FORM, credentials=(\"username\", \"password\"))"
   ]
  },
  {
   "cell_type": "markdown",
   "id": "87ba4782",
   "metadata": {},
   "source": [
    "After creating a session, register it (future operations use this session by _default_). Optionally, enable the `save` flag to write to a local config file for automatical loading/registration on next Composapy import."
   ]
  },
  {
   "cell_type": "code",
   "execution_count": null,
   "id": "4f00b363",
   "metadata": {},
   "outputs": [],
   "source": [
    "session.register()\n",
    "session.register(save=True)"
   ]
  },
  {
   "cell_type": "markdown",
   "id": "4eb6bbc0",
   "metadata": {},
   "source": [
    "You can also call `get_session` to get the currently registered session."
   ]
  },
  {
   "cell_type": "code",
   "execution_count": null,
   "id": "8871ee36",
   "metadata": {},
   "outputs": [],
   "source": [
    "from composapy.session import get_session\n",
    "\n",
    "session = get_session()"
   ]
  },
  {
   "cell_type": "markdown",
   "metadata": {
    "collapsed": false
   },
   "source": [
    "## DataFlow\n",
    "\n",
    "[ReadTheDocs - DataFlow](https://composapy.readthedocs.io/reference/composapy-dataflow/index.html)\n",
    "\n",
    "### Create and Save a DataFlow\n",
    "\n",
    "[DataFlowObject's](#dataflowobject) can be initialized with the [DataFlow API](#dataflow) method - [create](#create). It takes either a json string (_kwarg_ `json`) or path to a json file (_kwarg_ `file_path`) as parameters. Call the `save` method on an unsaved `DataFlowObject` to save it in the Composable database. Saving it will make give it an `id`, making it available for use in the [Composable Designer](https://github.com/ComposableAnalytics/Docs/blob/master/docs/DataFlows/02.Composable-Designer.md)."
   ]
  },
  {
   "cell_type": "code",
   "execution_count": null,
   "metadata": {
    "collapsed": false,
    "pycharm": {
     "name": "#%%\n"
    }
   },
   "outputs": [],
   "source": [
    "from composapy.dataflow.api import DataFlow\n",
    "\n",
    "dataflow_object = DataFlow.create(file_path=\"simple-dataflow.json\")         # DataFlowObject(id=None)\n",
    "dataflow_object = DataFlow.create(file_path=\"simple-dataflow.json\").save()  # DataFlowObject(id=123456)"
   ]
  },
  {
   "cell_type": "markdown",
   "metadata": {
    "collapsed": false
   },
   "source": [
    "### Run a DataFlow\n",
    "\n",
    "To run a saved DataFlow, you can retrieve the `appId` in the DataFlow's URL."
   ]
  },
  {
   "cell_type": "code",
   "execution_count": null,
   "metadata": {
    "collapsed": false,
    "pycharm": {
     "name": "#%%\n"
    }
   },
   "outputs": [],
   "source": [
    "dataflow_run = DataFlow.run(444333)  # DataFlowRun(id=444333)"
   ]
  },
  {
   "cell_type": "markdown",
   "metadata": {
    "collapsed": false
   },
   "source": [
    "To run a DataFlow that has external input modules, use the `external_inputs` kwarg, which is a dictionary with key equal to the external modules name field and the value equal to what you want to pass in."
   ]
  },
  {
   "cell_type": "code",
   "execution_count": null,
   "metadata": {
    "collapsed": false,
    "pycharm": {
     "name": "#%%\n"
    }
   },
   "outputs": [],
   "source": [
    "dataflow_run = DataFlow.run(444333, external_inputs={\"a_string_external_input\": \"foo string\"})  # DataFlowRun(id=444333)"
   ]
  },
  {
   "cell_type": "markdown",
   "metadata": {
    "collapsed": false
   },
   "source": [
    "### DataFlowObject and DataFlowRun Modules"
   ]
  },
  {
   "cell_type": "code",
   "execution_count": null,
   "metadata": {
    "collapsed": false,
    "pycharm": {
     "name": "#%%\n"
    }
   },
   "outputs": [],
   "source": [
    "dataflow_run.modules[0]  # Module(name='Calculator', type=Calculator)"
   ]
  },
  {
   "cell_type": "markdown",
   "metadata": {
    "collapsed": false
   },
   "source": [
    "### DataFlowObject and DataFlowRun Input"
   ]
  },
  {
   "cell_type": "code",
   "execution_count": null,
   "metadata": {
    "collapsed": false,
    "pycharm": {
     "name": "#%%\n"
    }
   },
   "outputs": [],
   "source": [
    "dataflow_object.modules.filter(name=\"calc module name\")[0].inputs.first()  # Input(name=Param1, type=Double, value=1.0)"
   ]
  },
  {
   "cell_type": "markdown",
   "metadata": {
    "collapsed": false
   },
   "source": [
    "### DataFlowRun Result"
   ]
  },
  {
   "cell_type": "code",
   "execution_count": null,
   "metadata": {
    "collapsed": false,
    "pycharm": {
     "name": "#%%\n"
    }
   },
   "outputs": [],
   "source": [
    "dataflow_run.modules.get(name=\"string module name\").result  # Result(name='foo name', type=String, value='foo value')"
   ]
  },
  {
   "cell_type": "markdown",
   "id": "c2b0c859",
   "metadata": {},
   "source": [
    "## Key\n",
    "\n",
    "[ReadTheDocs - Key](https://composapy.readthedocs.io/reference/composapy-key/index.html)\n",
    "\n",
    "### Retrieve Key"
   ]
  },
  {
   "cell_type": "markdown",
   "id": "74cf9bef",
   "metadata": {},
   "source": [
    "A Composapy Key can be retrieved using the python Key API."
   ]
  },
  {
   "cell_type": "code",
   "execution_count": null,
   "id": "48435a51",
   "metadata": {},
   "outputs": [],
   "source": [
    "from composapy.key.api import Key\n",
    "\n",
    "key_object = Key.get(123456)  # KeyObject(name='some name', type='StringConnectionSettings')"
   ]
  },
  {
   "cell_type": "markdown",
   "id": "39ab7276",
   "metadata": {},
   "source": [
    "Optionally, if your key name is unique, you can retrieve it by name."
   ]
  },
  {
   "cell_type": "code",
   "execution_count": null,
   "id": "256d3248",
   "metadata": {},
   "outputs": [],
   "source": [
    "key_object = Key.get(name=\"a unique name\")  # KeyObject(name='a unique name', type='SqlConnectionSettings')"
   ]
  },
  {
   "cell_type": "markdown",
   "id": "969b12b5",
   "metadata": {},
   "source": [
    "### Register Key"
   ]
  },
  {
   "cell_type": "markdown",
   "id": "ea1864e5",
   "metadata": {},
   "source": [
    "Similar to Session, KeyObjects can be registered with the `save=True` flag. This will save the key id in the working directory's \"composapy.ini\" file, which will then be loaded when the Composapy package is imported."
   ]
  },
  {
   "cell_type": "code",
   "execution_count": null,
   "id": "59805763",
   "metadata": {},
   "outputs": [],
   "source": [
    "key_object.register(save=True)"
   ]
  },
  {
   "cell_type": "markdown",
   "id": "227792f9",
   "metadata": {},
   "source": [
    "You can retrieve the currently registered key_object with `get_key_object`."
   ]
  },
  {
   "cell_type": "code",
   "execution_count": null,
   "id": "74e86b7f",
   "metadata": {},
   "outputs": [],
   "source": [
    "from composapy.key.models import get_key_object\n",
    "\n",
    "get_key_object()  # KeyObject(name='a unique name', type='SqlConnectionSettings')"
   ]
  },
  {
   "cell_type": "markdown",
   "id": "2b234fc4",
   "metadata": {},
   "source": [
    "### Search for Key\n",
    "\n",
    "Keys can be searched by name. It returns a list of key objects."
   ]
  },
  {
   "cell_type": "code",
   "execution_count": null,
   "id": "c9c71148",
   "metadata": {},
   "outputs": [],
   "source": [
    "key_objects = Key.search(\"same name\")  # [KeyObject(name='same name', type='SqlConnectionSettings'), KeyObject(name='same name', type='StringConnectionSettings')]"
   ]
  },
  {
   "cell_type": "markdown",
   "id": "c1bb659a",
   "metadata": {},
   "source": [
    "## QueryView\n",
    "\n",
    "[ReadTheDocs - QueryView](https://composapy.readthedocs.io/reference/composapy-queryview/index.html)\n",
    "\n",
    "### Create and Connect to a QueryView Driver"
   ]
  },
  {
   "cell_type": "code",
   "execution_count": null,
   "id": "4e5faad4",
   "metadata": {},
   "outputs": [],
   "source": [
    "from composapy.queryview.api import QueryView\n",
    "\n",
    "driver = QueryView.driver()  # you can create a driver and then connect with a key...\n",
    "driver.connect(key_object)\n",
    "\n",
    "driver = QueryView.driver(key_object)  # ... or create a driver using the key as an argument"
   ]
  },
  {
   "cell_type": "markdown",
   "id": "d5c3b211",
   "metadata": {},
   "source": [
    "If there is a currently registered key, there is no need to pass the key to the driver object; the driver will be automatically initialized with the database connection."
   ]
  },
  {
   "cell_type": "code",
   "execution_count": null,
   "id": "0ea36a87",
   "metadata": {},
   "outputs": [],
   "source": [
    "QueryView.driver()"
   ]
  },
  {
   "cell_type": "markdown",
   "id": "1ab829af",
   "metadata": {},
   "source": [
    "### Run a Query"
   ]
  },
  {
   "cell_type": "code",
   "execution_count": null,
   "id": "04f633c4",
   "metadata": {},
   "outputs": [],
   "source": [
    "df = driver.run(\"select * from table_name\")  # returns a Pandas DataFrame of your query"
   ]
  },
  {
   "cell_type": "markdown",
   "id": "8507aae6",
   "metadata": {},
   "source": [
    "### SQL Magic Commands"
   ]
  },
  {
   "cell_type": "markdown",
   "id": "3f024f5e",
   "metadata": {},
   "source": [
    "In a notebook (IPython) environment, custom sql magic commands are loaded on import with Composapy. Note that both `%sql` and `%%sql` require a registered Session and KeyObject. Both can be loaded on import if saved in the \"composapy.ini\" config file. See [register-session](#register-a-session) and [register-key](#register-key)."
   ]
  },
  {
   "cell_type": "code",
   "execution_count": null,
   "id": "5426b508",
   "metadata": {
    "vscode": {
     "languageId": "sql"
    }
   },
   "outputs": [],
   "source": [
    "%sql select * from some_table  --returns the same result as QueryView.driver(\"select * from some_table\")"
   ]
  },
  {
   "cell_type": "markdown",
   "id": "386e5781",
   "metadata": {},
   "source": [
    "Instead of doing line magic (only takes that line as input), you can alternatively do cell magic (takes entire cell as input)."
   ]
  },
  {
   "cell_type": "code",
   "execution_count": null,
   "id": "4424c9d4",
   "metadata": {
    "vscode": {
     "languageId": "sql"
    }
   },
   "outputs": [],
   "source": [
    "%%sql\n",
    "select\n",
    "    *\n",
    "from\n",
    "    some_table\n",
    "where\n",
    "    some_id is not null"
   ]
  },
  {
   "cell_type": "markdown",
   "metadata": {
    "collapsed": false
   },
   "source": [
    "## Additional Information\n",
    "\n",
    "Also, if you want to interface with <a href=\"https://github.com/pythonnet/pythonnet\" target=\"_blank\">pythonnet</a> more closely, you can find our csharp documentation <a href=\"https://dev.composable.ai/api/CompAnalytics.Contracts.html\" target=\"_blank\">here</a>."
   ]
  }
 ],
 "metadata": {
  "jupytext": {
   "notebook_metadata_filter": "-all"
  },
  "kernelspec": {
   "display_name": "Python 3.9.10 ('dev': venv)",
   "language": "python",
   "name": "python3"
  },
  "language_info": {
   "codemirror_mode": {
    "name": "ipython",
    "version": 3
   },
   "file_extension": ".py",
   "mimetype": "text/x-python",
   "name": "python",
   "nbconvert_exporter": "python",
   "pygments_lexer": "ipython3",
   "version": "3.9.10"
  },
  "vscode": {
   "interpreter": {
    "hash": "51ae8b5abd1d177cb4d9cebf58185c2f7f038e8e16677a6f3c1174a4fa07a2ff"
   }
  }
 },
 "nbformat": 4,
 "nbformat_minor": 5
}
