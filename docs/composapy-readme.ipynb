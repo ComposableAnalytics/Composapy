{
 "cells": [
  {
   "attachments": {},
   "cell_type": "markdown",
   "metadata": {
    "collapsed": false
   },
   "source": [
    "# Composapy\n",
    "\n",
    "DataLabs comes pre-installed with Composapy, a python package that makes it easy to\n",
    "programmatically interface with Composable. Composapy allows you to interactively author, execute\n",
    "and retrieve results from DataFlows (Directed Acyclic Graphs, DAGs).\n",
    "\n",
    "Visit our [ReadTheDocs](https://composapy.readthedocs.io/) page a more detailed look at\n",
    "Composapy.\n",
    "\n",
    "- [Session](#session)\n",
    "  - [Register a Session](#register-a-session)\n",
    "- [DataFlow](#dataflow)\n",
    "  - [Create and Save a DataFlow](#create-and-save-a-dataflow)\n",
    "  - [Run a DataFlow](#run-a-dataflow)\n",
    "  - [DataFlowObject and DataFlowRun Modules](#dataflowobject-and-dataflowrun-modules)\n",
    "  - [DataFlowObject and DataFlowRun Input](#dataflowobject-and-dataflowrun-input)\n",
    "  - [DataFlowRun Result](#dataflowrun-result)\n",
    "- [Key](#key)\n",
    "  - [Retrieve Key](#retrieve-key)\n",
    "  - [Register Key](#register-key)\n",
    "  - [Search for Key](#search-for-key)\n",
    "- [QueryView](#queryview)\n",
    "  - [Create and Connect to a QueryView Driver](#create-and-connect-to-a-queryview-driver)\n",
    "  - [Run a Query](#run-a-query)\n",
    "  - [SQL Magic Commands](#sql-magic-commands)\n",
    "  - [Run a Saved QueryView](#run-a-saved-queryview)\n",
    "- [Interactive Table Output](#interactive-table-output)\n",
    "  - [QueryView Driver Output](#queryview-driver-output)\n",
    "  - [SQL Cell Magic Output](#sql-cell-magic-output)\n",
    "  - [Saved QueryView Output](#saved-queryview-output)\n",
    "  - [Table Contract Output](#table-contract-output)\n",
    "- [Additional Information](#additional-information)\n",
    "\n",
    "## Session\n",
    "\n",
    "[ReadTheDocs - Session](https://composapy.readthedocs.io/reference/composapy-session.html)\n",
    "\n",
    "### Register a Session\n",
    "\n",
    "Composapy looks for the environment variable `APPLICATION_URI` by default (set by DataLabs). If you are using Composapy outside of the datalabs environment and the `APPLICATION_URI`\n",
    "environment variable is not set, you can set it with keyword argument `uri`. You can create a session with Windows Authentication (if you are in DataLab, this will be the same as the \n",
    "key on the DataLab edit screen), [`string`] API Token (can be generated on the composable website), or with a [`tuple[str, str]`] username/password combination."
   ]
  },
  {
   "cell_type": "code",
   "execution_count": null,
   "metadata": {
    "collapsed": false,
    "pycharm": {
     "name": "#%%\n"
    }
   },
   "outputs": [],
   "source": [
    "from composapy.session import Session\n",
    "from composapy.auth import AuthMode\n",
    "\n",
    "session = Session(auth_mode=AuthMode.WINDOWS)\n",
    "session = Session(auth_mode=AuthMode.TOKEN, credentials=\"<your-api-token-here>\", uri=\"http://localhost/CompAnalytics/\")\n",
    "session = Session(auth_mode=AuthMode.FORM, credentials=(\"username\", \"password\"))"
   ]
  },
  {
   "cell_type": "markdown",
   "id": "87ba4782",
   "metadata": {},
   "source": [
    "After creating a session, register it (future operations use this session by _default_). Optionally, enable the `save` flag to write to a local config file for automatical loading/registration on next Composapy import."
   ]
  },
  {
   "cell_type": "code",
   "execution_count": null,
   "id": "4f00b363",
   "metadata": {},
   "outputs": [],
   "source": [
    "session.register()\n",
    "session.register(save=True)"
   ]
  },
  {
   "cell_type": "markdown",
   "id": "4eb6bbc0",
   "metadata": {},
   "source": [
    "You can also call `get_session` to get the currently registered session."
   ]
  },
  {
   "cell_type": "code",
   "execution_count": null,
   "id": "8871ee36",
   "metadata": {},
   "outputs": [],
   "source": [
    "from composapy.session import get_session\n",
    "\n",
    "session = get_session()"
   ]
  },
  {
   "cell_type": "markdown",
   "metadata": {
    "collapsed": false
   },
   "source": [
    "## DataFlow\n",
    "\n",
    "[ReadTheDocs - DataFlow](https://composapy.readthedocs.io/reference/composapy-dataflow/index.html)\n",
    "\n",
    "### Create and Save a DataFlow\n",
    "\n",
    "[DataFlowObject's](#dataflowobject) can be initialized with the [DataFlow API](#dataflow) method - [create](#create). It takes either a json string (_kwarg_ `json`) or path to a json file (_kwarg_ `file_path`) as parameters. Call the `save` method on an unsaved `DataFlowObject` to save it in the Composable database. Saving it will make give it an `id`, making it available for use in the [Composable Designer](https://github.com/ComposableAnalytics/Docs/blob/master/docs/DataFlows/02.Composable-Designer.md)."
   ]
  },
  {
   "cell_type": "code",
   "execution_count": null,
   "metadata": {
    "collapsed": false,
    "pycharm": {
     "name": "#%%\n"
    }
   },
   "outputs": [],
   "source": [
    "from composapy.dataflow.api import DataFlow\n",
    "\n",
    "dataflow_object = DataFlow.create(file_path=\"simple-dataflow.json\")         # DataFlowObject(id=None)\n",
    "dataflow_object = DataFlow.create(file_path=\"simple-dataflow.json\").save()  # DataFlowObject(id=123456)"
   ]
  },
  {
   "cell_type": "markdown",
   "metadata": {
    "collapsed": false
   },
   "source": [
    "### Run a DataFlow\n",
    "\n",
    "To run a saved DataFlow, you can retrieve the `appId` in the DataFlow's URL."
   ]
  },
  {
   "cell_type": "code",
   "execution_count": null,
   "metadata": {
    "collapsed": false,
    "pycharm": {
     "name": "#%%\n"
    }
   },
   "outputs": [],
   "source": [
    "dataflow_run = DataFlow.run(444333)  # DataFlowRun(id=444333)"
   ]
  },
  {
   "cell_type": "markdown",
   "metadata": {
    "collapsed": false
   },
   "source": [
    "To run a DataFlow that has external input modules, use the `external_inputs` kwarg, which is a dictionary with key equal to the external modules name field and the value equal to what you want to pass in."
   ]
  },
  {
   "cell_type": "code",
   "execution_count": null,
   "metadata": {
    "collapsed": false,
    "pycharm": {
     "name": "#%%\n"
    }
   },
   "outputs": [],
   "source": [
    "dataflow_run = DataFlow.run(444333, external_inputs={\"a_string_external_input\": \"foo string\"})  # DataFlowRun(id=444333)"
   ]
  },
  {
   "cell_type": "markdown",
   "metadata": {
    "collapsed": false
   },
   "source": [
    "### DataFlowObject and DataFlowRun Modules"
   ]
  },
  {
   "cell_type": "code",
   "execution_count": null,
   "metadata": {
    "collapsed": false,
    "pycharm": {
     "name": "#%%\n"
    }
   },
   "outputs": [],
   "source": [
    "dataflow_run.modules[0]  # Module(name='Calculator', type=Calculator)"
   ]
  },
  {
   "cell_type": "markdown",
   "metadata": {
    "collapsed": false
   },
   "source": [
    "### DataFlowObject and DataFlowRun Input"
   ]
  },
  {
   "cell_type": "code",
   "execution_count": null,
   "metadata": {
    "collapsed": false,
    "pycharm": {
     "name": "#%%\n"
    }
   },
   "outputs": [],
   "source": [
    "dataflow_object.modules.filter(name=\"calc module name\")[0].inputs.first()  # Input(name=Param1, type=Double, value=1.0)"
   ]
  },
  {
   "cell_type": "markdown",
   "metadata": {
    "collapsed": false
   },
   "source": [
    "### DataFlowRun Result"
   ]
  },
  {
   "cell_type": "code",
   "execution_count": null,
   "metadata": {
    "collapsed": false,
    "pycharm": {
     "name": "#%%\n"
    }
   },
   "outputs": [],
   "source": [
    "dataflow_run.modules.get(name=\"string module name\").result  # Result(name='foo name', type=String, value='foo value')"
   ]
  },
  {
   "cell_type": "markdown",
   "id": "c2b0c859",
   "metadata": {},
   "source": [
    "## Key\n",
    "\n",
    "[ReadTheDocs - Key](https://composapy.readthedocs.io/reference/composapy-key/index.html)\n",
    "\n",
    "### Retrieve Key"
   ]
  },
  {
   "cell_type": "markdown",
   "id": "74cf9bef",
   "metadata": {},
   "source": [
    "A Composapy Key can be retrieved using the python Key API."
   ]
  },
  {
   "cell_type": "code",
   "execution_count": null,
   "id": "48435a51",
   "metadata": {},
   "outputs": [],
   "source": [
    "from composapy.key.api import Key\n",
    "\n",
    "key_object = Key.get(123456)  # KeyObject(name='some name', type='StringConnectionSettings')"
   ]
  },
  {
   "cell_type": "markdown",
   "id": "39ab7276",
   "metadata": {},
   "source": [
    "Optionally, if your key name is unique, you can retrieve it by name."
   ]
  },
  {
   "cell_type": "code",
   "execution_count": null,
   "id": "256d3248",
   "metadata": {},
   "outputs": [],
   "source": [
    "key_object = Key.get(name=\"a unique name\")  # KeyObject(name='a unique name', type='SqlConnectionSettings')"
   ]
  },
  {
   "cell_type": "markdown",
   "id": "969b12b5",
   "metadata": {},
   "source": [
    "### Register Key"
   ]
  },
  {
   "cell_type": "markdown",
   "id": "ea1864e5",
   "metadata": {},
   "source": [
    "Similar to Session, KeyObjects can be registered with the `save=True` flag. This will save the key id in the working directory's \"composapy.ini\" file, which will then be loaded when the Composapy package is imported."
   ]
  },
  {
   "cell_type": "code",
   "execution_count": null,
   "id": "59805763",
   "metadata": {},
   "outputs": [],
   "source": [
    "key_object.register(save=True)"
   ]
  },
  {
   "cell_type": "markdown",
   "id": "227792f9",
   "metadata": {},
   "source": [
    "You can retrieve the currently registered key_object with `get_key_object`."
   ]
  },
  {
   "cell_type": "code",
   "execution_count": null,
   "id": "74e86b7f",
   "metadata": {},
   "outputs": [],
   "source": [
    "from composapy.key.models import get_key_object\n",
    "\n",
    "get_key_object()  # KeyObject(name='a unique name', type='SqlConnectionSettings')"
   ]
  },
  {
   "cell_type": "markdown",
   "id": "2b234fc4",
   "metadata": {},
   "source": [
    "### Search for Key\n",
    "\n",
    "Keys can be searched by name. It returns a list of key objects."
   ]
  },
  {
   "cell_type": "code",
   "execution_count": null,
   "id": "c9c71148",
   "metadata": {},
   "outputs": [],
   "source": [
    "key_objects = Key.search(\"same name\")  # [KeyObject(name='same name', type='SqlConnectionSettings'), KeyObject(name='same name', type='StringConnectionSettings')]"
   ]
  },
  {
   "cell_type": "markdown",
   "id": "c1bb659a",
   "metadata": {},
   "source": [
    "## QueryView\n",
    "\n",
    "[ReadTheDocs - QueryView](https://composapy.readthedocs.io/reference/composapy-queryview/index.html)\n",
    "\n",
    "### Create and Connect to a QueryView Driver"
   ]
  },
  {
   "cell_type": "code",
   "execution_count": null,
   "id": "4e5faad4",
   "metadata": {},
   "outputs": [],
   "source": [
    "from composapy.queryview.api import QueryView\n",
    "\n",
    "driver = QueryView.driver()  # you can create a driver and then connect with a key...\n",
    "driver.connect(key_object)\n",
    "\n",
    "driver = QueryView.driver(key_object)  # ... or create a driver using the key as an argument"
   ]
  },
  {
   "cell_type": "markdown",
   "id": "d5c3b211",
   "metadata": {},
   "source": [
    "If there is a currently registered key, there is no need to pass the key to the driver object; the driver will be automatically initialized with the database connection."
   ]
  },
  {
   "cell_type": "code",
   "execution_count": null,
   "id": "0ea36a87",
   "metadata": {},
   "outputs": [],
   "source": [
    "QueryView.driver()"
   ]
  },
  {
   "cell_type": "markdown",
   "id": "1ab829af",
   "metadata": {},
   "source": [
    "### Run a Query"
   ]
  },
  {
   "cell_type": "code",
   "execution_count": null,
   "id": "04f633c4",
   "metadata": {},
   "outputs": [],
   "source": [
    "df = driver.run(\"select * from table_name\")  # returns a Pandas DataFrame of your query"
   ]
  },
  {
   "cell_type": "markdown",
   "id": "8507aae6",
   "metadata": {},
   "source": [
    "### SQL Magic Commands"
   ]
  },
  {
   "cell_type": "markdown",
   "id": "3f024f5e",
   "metadata": {},
   "source": [
    "In a notebook (IPython) environment, custom sql magic commands are loaded on import with Composapy. Note that both `%sql` and `%%sql` require a registered Session and KeyObject. Both can be loaded on import if saved in the \"composapy.ini\" config file. See [register-session](#register-a-session) and [register-key](#register-key)."
   ]
  },
  {
   "cell_type": "code",
   "execution_count": null,
   "id": "5426b508",
   "metadata": {
    "vscode": {
     "languageId": "sql"
    }
   },
   "outputs": [],
   "source": [
    "%sql select * from some_table  --returns the same result as QueryView.driver(\"select * from some_table\")"
   ]
  },
  {
   "cell_type": "markdown",
   "id": "386e5781",
   "metadata": {},
   "source": [
    "Instead of doing line magic (only takes that line as input), you can alternatively do cell magic (takes entire cell as input)."
   ]
  },
  {
   "cell_type": "code",
   "execution_count": null,
   "id": "4424c9d4",
   "metadata": {
    "vscode": {
     "languageId": "sql"
    }
   },
   "outputs": [],
   "source": [
    "%%sql\n",
    "select\n",
    "    *\n",
    "from\n",
    "    some_table\n",
    "where\n",
    "    some_id is not null"
   ]
  },
  {
   "attachments": {},
   "cell_type": "markdown",
   "id": "012d539a",
   "metadata": {},
   "source": [
    "`%%sql` cell magic also supports options to customize the query execution, such as setting a timeout value or capturing the output of the query into a Python variable. Run %%sql? for detailed documentation."
   ]
  },
  {
   "attachments": {},
   "cell_type": "markdown",
   "id": "12a275e7",
   "metadata": {},
   "source": [
    "### Run a Saved QueryView\n",
    "\n",
    "To run a saved QueryView, you can retrieve the ID in the QueryView's URL and invoke the static `run` method without needing to create a driver object."
   ]
  },
  {
   "cell_type": "code",
   "execution_count": null,
   "id": "f3452567",
   "metadata": {},
   "outputs": [],
   "source": [
    "from composapy.queryview.api import QueryView\n",
    "\n",
    "QueryView.run(123456) # returns a Pandas DataFrame with the query results"
   ]
  },
  {
   "attachments": {},
   "cell_type": "markdown",
   "id": "b1f80a47",
   "metadata": {},
   "source": [
    "If the QueryView has literal or filter inputs, you can optionally pass values and operators to the `run` method using the `inputs` argument. This argument must be a dictionary whose keys are the display name of the input. There are two possible formats for the dictionary values, depending on the kind of input:\n",
    "\n",
    "1. [LITERAL, FILTER] A single Python primitive (`int`, `bool`, `str`, `float`). The default operator will be used for filter inputs in this case.\n",
    "2. [FILTER] A tuple of size two in the form `(val, operator)` where `val` is the primitive input value and `operator` is one of the acceptable QueryView input operators (=, !=, >, <, >=, <=, LIKE)\n",
    "\n",
    "As of Composapy 0.13.1, multi-choice inputs are supported. To pass a multi-choice input, sets, tuples, and lists that contain primitive values are accepted. Due to the current nature of filter inputs requiring tuple format, literal multi-choice inputs must be passed as a tuple containing a set, tuple, or list of primitive values, like so, for instance: [{item1,item2}]. This is in order to preserve parsing logic for filter inputs, which would follow a similar format: [{item1,item2},operator]."
   ]
  },
  {
   "cell_type": "code",
   "execution_count": null,
   "id": "8cc15a3e",
   "metadata": {},
   "outputs": [],
   "source": [
    "QueryView.run(123456, inputs={\"displayName1\": \"val1\", \"displayName2\": (100, \"!=\")})"
   ]
  },
  {
   "cell_type": "markdown",
   "id": "19ea3675",
   "metadata": {},
   "source": [
    "## Interactive Table Output\n",
    "\n",
    "Some operations that return Pandas DataFrames can also be run in interactive mode, which renders the data as an interactive DataTable with server-side processing for pagination. There are four main operations that can return interactive tables:\n",
    "1. QueryView driver output\n",
    "2. `%%sql` cell magic output\n",
    "3. Saved QueryView output\n",
    "4. Table contract output"
   ]
  },
  {
   "cell_type": "markdown",
   "id": "5c7c9627",
   "metadata": {},
   "source": [
    "\n",
    "#### QueryView Driver Output\n",
    "When creating a QueryView driver, set `interactive=True`:"
   ]
  },
  {
   "cell_type": "code",
   "execution_count": null,
   "id": "e22d4a04",
   "metadata": {},
   "outputs": [],
   "source": [
    "from composapy.queryview.api import QueryView\n",
    "QueryView.driver(interactive=True)\n",
    "driver.run(\"select * from table\")"
   ]
  },
  {
   "cell_type": "markdown",
   "id": "a9e86791",
   "metadata": {},
   "source": [
    "Note that unlike other QueryView driver settings, `interactive` can only be set when `driver()` is called, not when `run()` is called."
   ]
  },
  {
   "cell_type": "markdown",
   "id": "1f514d1f",
   "metadata": {},
   "source": [
    "#### SQL Cell Magic Output\n",
    "Simply pass the `-i` flag to the `%%sql` magic command:"
   ]
  },
  {
   "cell_type": "code",
   "execution_count": null,
   "id": "6a11755f",
   "metadata": {
    "vscode": {
     "languageId": "sql"
    }
   },
   "outputs": [],
   "source": [
    "%%sql -i\n",
    "select * from table"
   ]
  },
  {
   "cell_type": "markdown",
   "id": "cc605d24",
   "metadata": {},
   "source": [
    "#### Saved QueryView Output\n",
    "When running a saved QueryView, pass the `interactive=True` argument to `run()`:"
   ]
  },
  {
   "cell_type": "code",
   "execution_count": null,
   "id": "29c64268",
   "metadata": {},
   "outputs": [],
   "source": [
    "from composapy.queryview.api import QueryView\n",
    "QueryView.run(12345, interactive=True)"
   ]
  },
  {
   "cell_type": "markdown",
   "id": "0665ba3a",
   "metadata": {},
   "source": [
    "Note that the paging options set in the QueryView will be respected. If no paging options are set, Auto Paging will be used."
   ]
  },
  {
   "cell_type": "markdown",
   "id": "436c9b1d",
   "metadata": {},
   "source": [
    "#### Table Contract Output\n",
    "When a table contract is passed into a DataLab (either via running a DataFlow or as a notebook runner input), it can be viewed interactively by setting a global option. The below example runs a DataFlow that contains an Odbc Query module, which has a Table output: "
   ]
  },
  {
   "cell_type": "code",
   "execution_count": null,
   "id": "fe6c1a05",
   "metadata": {},
   "outputs": [],
   "source": [
    "import composapy.interactive.options as iopts\n",
    "iopts.SHOW_INTERACTIVE_TABLES = True\n",
    "\n",
    "from composapy.dataflow.api import DataFlow\n",
    "table_contract = DataFlow.run(1234).modules.get(name=\"Odbc Query\").result.value\n",
    "table_contract # NOTE: you can also use display(table_contract), but don't use print(table_contract)"
   ]
  },
  {
   "cell_type": "markdown",
   "metadata": {
    "collapsed": false
   },
   "source": [
    "## Additional Information\n",
    "\n",
    "Also, if you want to interface with <a href=\"https://github.com/pythonnet/pythonnet\" target=\"_blank\">pythonnet</a> more closely, you can find our csharp documentation <a href=\"https://dev.composable.ai/api/CompAnalytics.Contracts.html\" target=\"_blank\">here</a>."
   ]
  }
 ],
 "metadata": {
  "jupytext": {
   "notebook_metadata_filter": "-all"
  },
  "kernelspec": {
   "display_name": "Python 3.9.10 ('dev': venv)",
   "language": "python",
   "name": "python3"
  },
  "language_info": {
   "codemirror_mode": {
    "name": "ipython",
    "version": 3
   },
   "file_extension": ".py",
   "mimetype": "text/x-python",
   "name": "python",
   "nbconvert_exporter": "python",
   "pygments_lexer": "ipython3",
   "version": "3.9.10"
  },
  "vscode": {
   "interpreter": {
    "hash": "51ae8b5abd1d177cb4d9cebf58185c2f7f038e8e16677a6f3c1174a4fa07a2ff"
   }
  }
 },
 "nbformat": 4,
 "nbformat_minor": 5
}
