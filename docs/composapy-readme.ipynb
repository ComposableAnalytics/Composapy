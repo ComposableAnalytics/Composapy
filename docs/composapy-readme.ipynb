{
 "cells": [
  {
   "cell_type": "markdown",
   "metadata": {
    "collapsed": false
   },
   "source": [
    "# Composapy\n",
    "\n",
    "DataLabs comes pre-installed with Composapy, a python package that makes it easy to\n",
    "programmatically interface with Composable. Composapy allows you to interactively author, execute\n",
    "and retrieve results from DataFlows (Directed Acyclic Graphs, DAGs).\n",
    "\n",
    "Visit our [ReadTheDocs](https://composapy.readthedocs.io/html/) page a more detailed look at\n",
    "Composapy.\n",
    "\n",
    "- [Session](#session)\n",
    "  - [Register a Session](#register-a-session)\n",
    "- [DataFlow](#dataflow)\n",
    "  - [Create and Save a DataFlow](#create-and-save-a-dataflow)\n",
    "  - [Run a DataFlow](#run-a-dataflow)\n",
    "  - [DataFlowObject and DataFlowRun Modules](#dataflowobject-and-dataflowrun-modules)\n",
    "  - [DataFlowObject and DataFlowRun Input](#dataflowobject-and-dataflowrun-input)\n",
    "  - [DataFlowRun Result](#dataflowrun-result)\n",
    "- [Key](#key)\n",
    "  - [Retrieve a Composable Key](#retrieve-a-composable-key)\n",
    "  - [Search for a Composable Key](#search-for-a-composable-key)\n",
    "- [QueryView](#queryview)\n",
    "  - [Create and Connect to a QueryView Driver](#create-and-connect-to-a-queryview-driver)\n",
    "  - [Run a Query](#run-a-query)\n",
    "- [Additional Information](#additional-information)\n",
    "\n",
    "## Session\n",
    "\n",
    "[ReadTheDocs - Session](https://composapy.readthedocs.io/html/reference/composapy-session.html)\n",
    "\n",
    "### Register a Session\n",
    "\n",
    "Composapy looks for the environment variable `APPLICATION_URI` by default (set by DataLabs). If you are using Composapy outside of the datalabs environment and the `APPLICATION_URI`\n",
    "environment variable is not set, you can set it with keyword argument `uri`. You can create a session with Windows Authentication (if you are in DataLab, this will be the same as the \n",
    "key on the DataLab edit screen), [`string`] API Token (can be generated on the composable website), or with a [`tuple[str, str]`] username/password combination."
   ]
  },
  {
   "cell_type": "code",
   "execution_count": null,
   "metadata": {
    "collapsed": false,
    "pycharm": {
     "name": "#%%\n"
    }
   },
   "outputs": [],
   "source": [
    "from composapy.session import Session\n",
    "\n",
    "# use one of the following three methods of authentication\n",
    "session = Session(auth_mode=Session.AuthMode.WINDOWS)                                                                           # Windows Auth\n",
    "session = Session(auth_mode=Session.AuthMode.TOKEN, credentials=\"<your-api-token-here>\", uri=\"http://localhost/CompAnalytics/\") # Token\n",
    "session = Session(auth_mode=Session.AuthMode.FORM, credentials=(\"username\", \"password\"))                                        # Form\n",
    "\n",
    "session.register()  # register your session so that composapy uses this"
   ]
  },
  {
   "cell_type": "markdown",
   "id": "4eb6bbc0",
   "metadata": {},
   "source": [
    "You can also call `get_session` to get the currently registered session."
   ]
  },
  {
   "cell_type": "code",
   "execution_count": null,
   "id": "8871ee36",
   "metadata": {},
   "outputs": [],
   "source": [
    "from composapy.session import get_session\n",
    "session = get_session()"
   ]
  },
  {
   "cell_type": "markdown",
   "metadata": {
    "collapsed": false
   },
   "source": [
    "## DataFlow\n",
    "\n",
    "[ReadTheDocs - DataFlow](https://composapy.readthedocs.io/html/reference/composapy-dataflow/index.html)\n",
    "\n",
    "### Create and Save a DataFlow\n",
    "\n",
    "[DataFlowObject's](#dataflowobject) can be initialized with the [DataFlow API](#dataflow) method - [create](#create). It takes either a json string (_kwarg_ `json`) or path to a json file (_kwarg_ `file_path`) as parameters. Call the `save` method on an unsaved `DataFlowObject` to save it in the Composable database. Saving it will make give it an `id`, making it available for use in the [Composable Designer](https://github.com/ComposableAnalytics/Docs/blob/master/docs/DataFlows/02.Composable-Designer.md)."
   ]
  },
  {
   "cell_type": "code",
   "execution_count": null,
   "metadata": {
    "collapsed": false,
    "pycharm": {
     "name": "#%%\n"
    }
   },
   "outputs": [],
   "source": [
    "from composapy.dataflow.api import DataFlow\n",
    "\n",
    "dataflow_object = DataFlow.create(file_path=\"simple-dataflow.json\")         # DataFlowObject(id=None)\n",
    "dataflow_object = DataFlow.create(file_path=\"simple-dataflow.json\").save()  # DataFlowObject(id=123456)"
   ]
  },
  {
   "cell_type": "markdown",
   "metadata": {
    "collapsed": false
   },
   "source": [
    "### Run a DataFlow\n",
    "\n",
    "To run a saved DataFlow, you can retrieve the `appId` in the DataFlow's URL."
   ]
  },
  {
   "cell_type": "code",
   "execution_count": null,
   "metadata": {
    "collapsed": false,
    "pycharm": {
     "name": "#%%\n"
    }
   },
   "outputs": [],
   "source": [
    "dataflow_run = DataFlow.run(444333)  # DataFlowRun(id=444333)"
   ]
  },
  {
   "cell_type": "markdown",
   "metadata": {
    "collapsed": false
   },
   "source": [
    "To run a DataFlow that has external input modules, use the `external_inputs` kwarg, which is a dictionary with key equal to the external modules name field and the value equal to what you want to pass in."
   ]
  },
  {
   "cell_type": "code",
   "execution_count": null,
   "metadata": {
    "collapsed": false,
    "pycharm": {
     "name": "#%%\n"
    }
   },
   "outputs": [],
   "source": [
    "dataflow_run = DataFlow.run(444333, external_inputs={\"a_string_external_input\": \"foo string\"})  # DataFlowRun(id=444333)"
   ]
  },
  {
   "cell_type": "markdown",
   "metadata": {
    "collapsed": false
   },
   "source": [
    "### DataFlowObject and DataFlowRun Modules"
   ]
  },
  {
   "cell_type": "code",
   "execution_count": null,
   "metadata": {
    "collapsed": false,
    "pycharm": {
     "name": "#%%\n"
    }
   },
   "outputs": [],
   "source": [
    "dataflow_run.modules[0]  # Module(name='Calculator', type=Calculator)"
   ]
  },
  {
   "cell_type": "markdown",
   "metadata": {
    "collapsed": false
   },
   "source": [
    "### DataFlowObject and DataFlowRun Input"
   ]
  },
  {
   "cell_type": "code",
   "execution_count": null,
   "metadata": {
    "collapsed": false,
    "pycharm": {
     "name": "#%%\n"
    }
   },
   "outputs": [],
   "source": [
    "dataflow_object.modules.filter(name=\"calc module name\")[0].inputs.first()  # Input(name=Param1, type=Double, value=1.0)"
   ]
  },
  {
   "cell_type": "markdown",
   "metadata": {
    "collapsed": false
   },
   "source": [
    "### DataFlowRun Result"
   ]
  },
  {
   "cell_type": "code",
   "execution_count": null,
   "metadata": {
    "collapsed": false,
    "pycharm": {
     "name": "#%%\n"
    }
   },
   "outputs": [],
   "source": [
    "dataflow_run.modules.get(name=\"string module name\").result  # Result(name='foo name', type=String, value='foo value')"
   ]
  },
  {
   "cell_type": "markdown",
   "id": "c2b0c859",
   "metadata": {},
   "source": [
    "## Key\n",
    "\n",
    "[ReadTheDocs - Key](https://composapy.readthedocs.io/html/reference/composapy-key/index.html)\n",
    "\n",
    "### Retrieve a Composable Key"
   ]
  },
  {
   "cell_type": "code",
   "execution_count": null,
   "id": "48435a51",
   "metadata": {},
   "outputs": [],
   "source": [
    "from composapy.key.api import Key\n",
    "\n",
    "key_object = Key.get(123456)  # KeyObject(name='some name', type='StringConnectionSettings')\n",
    "\n",
    "# optionally, if your key has a unique name, you can retrieve with its name\n",
    "key_object = Key.get(name=\"a unique name\")  # KeyObject(name='a unique name', type='SqlConnectionSettings')"
   ]
  },
  {
   "cell_type": "markdown",
   "id": "2b234fc4",
   "metadata": {},
   "source": [
    "### Search for a Composable Key\n",
    "\n",
    "Keys can be searched by name. It returns a list of key objects."
   ]
  },
  {
   "cell_type": "code",
   "execution_count": null,
   "id": "c9c71148",
   "metadata": {},
   "outputs": [],
   "source": [
    "key_objects = Key.search(\"same name\")  # [KeyObject(name='same name', type='SqlConnectionSettings'), KeyObject(name='same name', type='StringConnectionSettings')]"
   ]
  },
  {
   "cell_type": "markdown",
   "id": "c1bb659a",
   "metadata": {},
   "source": [
    "## QueryView\n",
    "\n",
    "[ReadTheDocs - QueryView](https://composapy.readthedocs.io/html/reference/composapy-queryview/index.html)\n",
    "\n",
    "### Create and Connect to a QueryView Driver"
   ]
  },
  {
   "cell_type": "code",
   "execution_count": null,
   "id": "4e5faad4",
   "metadata": {},
   "outputs": [],
   "source": [
    "from composapy.queryview.api import QueryView\n",
    "\n",
    "driver = QueryView.driver()  # you can create a driver and then connect with a key...\n",
    "driver.connect(key_object)\n",
    "\n",
    "driver = QueryView.driver(key_object)  # ... or create a driver using the key as an argument"
   ]
  },
  {
   "cell_type": "markdown",
   "id": "1ab829af",
   "metadata": {},
   "source": [
    "### Run a Query"
   ]
  },
  {
   "cell_type": "code",
   "execution_count": null,
   "id": "04f633c4",
   "metadata": {},
   "outputs": [],
   "source": [
    "df = driver.run(\"select * from some_table\")  # returns a Pandas DataFrame of your query"
   ]
  },
  {
   "cell_type": "markdown",
   "metadata": {
    "collapsed": false
   },
   "source": [
    "## Additional Information\n",
    "\n",
    "Also, if you want to interface with <a href=\"https://github.com/pythonnet/pythonnet\" target=\"_blank\">pythonnet</a> more closely -- you can find our csharp documentation <a href=\"https://dev.composable.ai/api/CompAnalytics.Contracts.html\" target=\"_blank\">here</a>."
   ]
  }
 ],
 "metadata": {
  "jupytext": {
   "notebook_metadata_filter": "-all"
  },
  "kernelspec": {
   "display_name": "Python 3.9.7 ('build': venv)",
   "language": "python",
   "name": "python3"
  },
  "language_info": {
   "codemirror_mode": {
    "name": "ipython",
    "version": 3
   },
   "file_extension": ".py",
   "mimetype": "text/x-python",
   "name": "python",
   "nbconvert_exporter": "python",
   "pygments_lexer": "ipython3",
   "version": "3.9.7"
  },
  "vscode": {
   "interpreter": {
    "hash": "6a8f853bc90dd18718464b38df8596790c9c02c5cd17be48b849dbfb1fa1a43f"
   }
  }
 },
 "nbformat": 4,
 "nbformat_minor": 5
}